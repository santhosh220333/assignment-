{
 "cells": [
  {
   "cell_type": "code",
   "execution_count": 1,
   "id": "b188109c",
   "metadata": {},
   "outputs": [
    {
     "name": "stdout",
     "output_type": "stream",
     "text": [
      "What is your name? Shanthos\n",
      "How many years of experience do you have in your field? 6\n",
      "Do you have a bachelor's degree? (yes/no) yes\n",
      "Congratulations, Shanthos! You are eligible for the job.\n"
     ]
    }
   ],
   "source": [
    "# Define the variables for the job interview\n",
    "name = input(\"What is your name? \")\n",
    "years_of_experience = int(input(\"How many years of experience do you have in your field? \"))\n",
    "degree = input(\"Do you have a bachelor's degree? (yes/no) \")\n",
    "\n",
    "# Use the if statement to determine the eligibility for the job based on the variables\n",
    "if years_of_experience >= 5:\n",
    "    if degree == \"yes\":\n",
    "        print(f\"Congratulations, {name}! You are eligible for the job.\")\n",
    "    else:\n",
    "        print(f\"Sorry, {name}, a bachelor's degree is required for this job.\")\n",
    "else:\n",
    "    print(f\"Sorry, {name}, you need at least 5 years of experience to be eligible for this job.\")\n"
   ]
  },
  {
   "cell_type": "code",
   "execution_count": null,
   "id": "98266553",
   "metadata": {},
   "outputs": [],
   "source": []
  }
 ],
 "metadata": {
  "kernelspec": {
   "display_name": "Python 3 (ipykernel)",
   "language": "python",
   "name": "python3"
  },
  "language_info": {
   "codemirror_mode": {
    "name": "ipython",
    "version": 3
   },
   "file_extension": ".py",
   "mimetype": "text/x-python",
   "name": "python",
   "nbconvert_exporter": "python",
   "pygments_lexer": "ipython3",
   "version": "3.9.13"
  }
 },
 "nbformat": 4,
 "nbformat_minor": 5
}
